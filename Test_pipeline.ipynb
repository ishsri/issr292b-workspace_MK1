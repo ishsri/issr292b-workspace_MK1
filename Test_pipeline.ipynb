{
 "cells": [
  {
   "cell_type": "code",
   "execution_count": null,
   "id": "4c2ef111-8cb4-40e3-a297-e59e6d07f5ec",
   "metadata": {},
   "outputs": [],
   "source": [
    "import os"
   ]
  },
  {
   "cell_type": "code",
   "execution_count": null,
   "id": "bd8dcc41-d600-4fe4-9ad6-39c4cdc285da",
   "metadata": {},
   "outputs": [],
   "source": [
    "cd classification_hema_pipeline/"
   ]
  },
  {
   "cell_type": "code",
   "execution_count": null,
   "id": "981e2bd2-5053-4e87-9691-38f9ef895348",
   "metadata": {},
   "outputs": [],
   "source": [
    "!git status"
   ]
  },
  {
   "cell_type": "code",
   "execution_count": null,
   "id": "9cce4239-8e83-4e8f-b39b-44743165b6fa",
   "metadata": {},
   "outputs": [],
   "source": [
    "!git add setup_env.sh"
   ]
  },
  {
   "cell_type": "code",
   "execution_count": null,
   "id": "d3d1e5ba-f8cd-47cc-9453-88750e409477",
   "metadata": {},
   "outputs": [],
   "source": [
    "!git commit -m \"conda path updated\""
   ]
  },
  {
   "cell_type": "code",
   "execution_count": null,
   "id": "ca040fb8-a0a4-43bc-a676-a9dcca939518",
   "metadata": {},
   "outputs": [],
   "source": [
    "!git push origin main"
   ]
  },
  {
   "cell_type": "code",
   "execution_count": null,
   "id": "765dbffb-6088-444d-af73-4aee036d2aa9",
   "metadata": {},
   "outputs": [],
   "source": [
    "!git push origin master"
   ]
  },
  {
   "cell_type": "code",
   "execution_count": null,
   "id": "62971818-56a2-429d-ad2b-5af814370f3c",
   "metadata": {},
   "outputs": [],
   "source": [
    "!git config --global user.email \"ishsri@github.com\""
   ]
  },
  {
   "cell_type": "code",
   "execution_count": null,
   "id": "aafda3af-9e04-49d0-ab36-21b9388a7d2c",
   "metadata": {},
   "outputs": [],
   "source": [
    "!git config --global user.name \"ishri\""
   ]
  },
  {
   "cell_type": "code",
   "execution_count": null,
   "id": "d8772ce2-3d01-48ed-bf6d-2cf936baccd7",
   "metadata": {},
   "outputs": [],
   "source": [
    "!git push --all"
   ]
  },
  {
   "cell_type": "code",
   "execution_count": null,
   "id": "8ef775cc-d805-4b50-8344-36658d7c1301",
   "metadata": {},
   "outputs": [],
   "source": []
  },
  {
   "cell_type": "code",
   "execution_count": null,
   "id": "ae584c20-2cc0-4dfe-b0cb-2619f55e26fe",
   "metadata": {},
   "outputs": [],
   "source": []
  },
  {
   "cell_type": "code",
   "execution_count": null,
   "id": "abf8dc9a-44f7-46f4-b39f-2d558dc21eba",
   "metadata": {},
   "outputs": [],
   "source": []
  },
  {
   "cell_type": "code",
   "execution_count": null,
   "id": "5860d96a-383c-4f3f-abc0-4f7611c64f9e",
   "metadata": {},
   "outputs": [],
   "source": []
  },
  {
   "cell_type": "code",
   "execution_count": null,
   "id": "d027c41b-7509-4939-afc8-0506d566dfc0",
   "metadata": {},
   "outputs": [],
   "source": []
  },
  {
   "cell_type": "code",
   "execution_count": null,
   "id": "c20c0da8-8f9d-4fd9-846f-3fdb95c14f2f",
   "metadata": {},
   "outputs": [],
   "source": []
  }
 ],
 "metadata": {
  "kernelspec": {
   "display_name": "class_3_7_10",
   "language": "python",
   "name": "class_3_7_10"
  },
  "language_info": {
   "codemirror_mode": {
    "name": "ipython",
    "version": 3
   },
   "file_extension": ".py",
   "mimetype": "text/x-python",
   "name": "python",
   "nbconvert_exporter": "python",
   "pygments_lexer": "ipython3",
   "version": "3.7.10"
  }
 },
 "nbformat": 4,
 "nbformat_minor": 5
}
